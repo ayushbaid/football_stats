{
 "cells": [
  {
   "cell_type": "code",
   "execution_count": 4,
   "metadata": {},
   "outputs": [],
   "source": [
    "import pandas as pd\n",
    "import glob"
   ]
  },
  {
   "cell_type": "code",
   "execution_count": 43,
   "metadata": {},
   "outputs": [
    {
     "name": "stdout",
     "output_type": "stream",
     "text": [
      "data/prem_league/2005-06.csv\n",
      "data/prem_league/2009-10.csv\n",
      "data/prem_league/2001-02.csv\n",
      "data/prem_league/2014-15.csv\n",
      "data/prem_league/2018-19.csv\n",
      "data/prem_league/2016-17.csv\n",
      "data/prem_league/2007-08.csv\n",
      "data/prem_league/2000-01.csv\n",
      "data/prem_league/2008-09.csv\n",
      "data/prem_league/2015-16.csv\n",
      "data/prem_league/2010-11.csv\n",
      "data/prem_league/2011-12.csv\n",
      "data/prem_league/2017-18.csv\n",
      "data/prem_league/2012-13.csv\n",
      "data/prem_league/2006-07.csv\n",
      "data/prem_league/2013-14.csv\n",
      "Num cols =  29\n"
     ]
    }
   ],
   "source": [
    "# read the files\n",
    "filelist = glob.glob('data/prem_league/*.csv')\n",
    "\n",
    "dfs_individual = []\n",
    "for f in filelist:\n",
    "    print(f)\n",
    "    temp = pd.read_csv(f, keep_default_na=True)\n",
    "    dfs_individual.append(temp)\n",
    "\n",
    "\n",
    "common_cols = list(set.intersection(*(set(df.columns) for df in dfs_individual)))\n",
    "print(\"Num cols = \", len(common_cols))\n",
    "concatenated_df = pd.concat((df[common_cols] for df in dfs_individual), axis=0, ignore_index=True, join='inner')"
   ]
  },
  {
   "cell_type": "code",
   "execution_count": 44,
   "metadata": {},
   "outputs": [],
   "source": [
    "concatenated_df.to_csv('data/prem_concat.csv')"
   ]
  },
  {
   "cell_type": "code",
   "execution_count": 45,
   "metadata": {},
   "outputs": [
    {
     "data": {
      "text/plain": [
       "(5941, 29)"
      ]
     },
     "execution_count": 45,
     "metadata": {},
     "output_type": "execute_result"
    }
   ],
   "source": [
    "concatenated_df.shape"
   ]
  },
  {
   "cell_type": "code",
   "execution_count": null,
   "metadata": {},
   "outputs": [],
   "source": []
  }
 ],
 "metadata": {
  "kernelspec": {
   "display_name": "Python 3",
   "language": "python",
   "name": "python3"
  },
  "language_info": {
   "codemirror_mode": {
    "name": "ipython",
    "version": 3
   },
   "file_extension": ".py",
   "mimetype": "text/x-python",
   "name": "python",
   "nbconvert_exporter": "python",
   "pygments_lexer": "ipython3",
   "version": "3.6.7"
  }
 },
 "nbformat": 4,
 "nbformat_minor": 2
}
